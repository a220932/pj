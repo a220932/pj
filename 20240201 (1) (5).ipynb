{
 "cells": [
  {
   "cell_type": "markdown",
   "metadata": {
    "id": "W43Nd1z6jgyF",
    "tags": []
   },
   "source": [
    "# functions"
   ]
  },
  {
   "cell_type": "code",
   "execution_count": 2,
   "metadata": {
    "id": "KOuxvC5sG7b6",
    "tags": []
   },
   "outputs": [],
   "source": [
    "def mprint(matrix):\n",
    "    for row in matrix:\n",
    "        print(row)\n",
    "    print()"
   ]
  },
  {
   "cell_type": "code",
   "execution_count": 3,
   "metadata": {
    "colab": {
     "base_uri": "https://localhost:8080/"
    },
    "id": "8g_xHONxBYn8",
    "outputId": "e4f77012-2dc2-4661-eb52-d453f7e37488",
    "tags": []
   },
   "outputs": [
    {
     "name": "stdout",
     "output_type": "stream",
     "text": [
      "[0, 0, 0]\n",
      "[0, 0, 0]\n",
      "[0, 0, 0]\n",
      "\n",
      "[0, 0, 0]\n",
      "[0, 0, 1]\n",
      "[0, 1, 0]\n",
      "\n",
      "[0, 0, 1]\n",
      "[0, 0, 0]\n",
      "[1, 0, 0]\n",
      "\n",
      "[0, 0, 1]\n",
      "[0, 0, 1]\n",
      "[1, 1, 0]\n",
      "\n",
      "[0, 1, 0]\n",
      "[1, 0, 0]\n",
      "[0, 0, 0]\n",
      "\n",
      "[0, 1, 0]\n",
      "[1, 0, 1]\n",
      "[0, 1, 0]\n",
      "\n",
      "[0, 1, 1]\n",
      "[1, 0, 0]\n",
      "[1, 0, 0]\n",
      "\n",
      "[0, 1, 1]\n",
      "[1, 0, 1]\n",
      "[1, 1, 0]\n",
      "\n"
     ]
    }
   ],
   "source": [
    "def generate_adjacency_matrices(n):\n",
    "    \"\"\"\n",
    "    Generates all adjacency matrices for simple graphs with n vertices.\n",
    "\n",
    "    Args:\n",
    "        n: Number of vertices in the graph.\n",
    "\n",
    "    Returns:\n",
    "        A list of adjacency matrices.\n",
    "    \"\"\"\n",
    "    def generate_helper(matrix, i, j):\n",
    "        if i == j:\n",
    "          generate_helper(matrix, i, j+1)\n",
    "          return\n",
    "        if i == n:\n",
    "          adjacency_matrices.append([row[:] for row in matrix])\n",
    "          return\n",
    "        if j == n:\n",
    "          generate_helper(matrix, i+1, i+1)\n",
    "          return\n",
    "\n",
    "        matrix[i][j] = 0\n",
    "        matrix[j][i] = 0\n",
    "        generate_helper(matrix, i, j+1)\n",
    "\n",
    "        matrix[i][j] = 1\n",
    "        matrix[j][i] = 1\n",
    "        generate_helper(matrix, i, j+1)\n",
    "        return\n",
    "\n",
    "    adjacency_matrices = []\n",
    "    initial_matrix = [[0] * n for _ in range(n)]\n",
    "    generate_helper(initial_matrix, 0, 0)\n",
    "\n",
    "    return adjacency_matrices\n",
    "\n",
    "# Example usage:\n",
    "n = 3\n",
    "result = generate_adjacency_matrices(n)\n",
    "for matrix in result:\n",
    "    mprint(matrix)\n"
   ]
  },
  {
   "cell_type": "code",
   "execution_count": 4,
   "metadata": {
    "colab": {
     "base_uri": "https://localhost:8080/"
    },
    "id": "e9dIiWJzHXuy",
    "outputId": "00437e87-8962-4aad-a399-b4547472b813",
    "tags": []
   },
   "outputs": [
    {
     "name": "stdout",
     "output_type": "stream",
     "text": [
      "Adjacency Matrix:\n",
      "[[0 1 1]\n",
      " [1 0 1]\n",
      " [1 1 0]]\n",
      "\n",
      "Laplacian Matrix:\n",
      "[[ 2 -1 -1]\n",
      " [-1  2 -1]\n",
      " [-1 -1  2]]\n"
     ]
    }
   ],
   "source": [
    "import numpy as np\n",
    "\n",
    "def adjacency_to_laplacian(adjacency_matrix):\n",
    "    \"\"\"\n",
    "    Convert an adjacency matrix to a Laplacian matrix.\n",
    "\n",
    "    Args:\n",
    "        adjacency_matrix: The adjacency matrix of the graph.\n",
    "\n",
    "    Returns:\n",
    "        The Laplacian matrix.\n",
    "    \"\"\"\n",
    "    # Convert the adjacency matrix to a numpy array\n",
    "    adjacency_matrix = np.array(adjacency_matrix)\n",
    "\n",
    "    # Step 1: Compute the degree matrix\n",
    "    degree_matrix = np.diag(np.sum(adjacency_matrix, axis=1))\n",
    "\n",
    "    # Step 2: Compute the Laplacian matrix\n",
    "    laplacian_matrix = degree_matrix - adjacency_matrix\n",
    "\n",
    "    return laplacian_matrix\n",
    "\n",
    "# Example usage:\n",
    "adjacency_matrix = [\n",
    "    [0, 1, 1],\n",
    "    [1, 0, 1],\n",
    "    [1, 1, 0]\n",
    "]\n",
    "\n",
    "laplacian_matrix = adjacency_to_laplacian(adjacency_matrix)\n",
    "print(\"Adjacency Matrix:\")\n",
    "print(np.array(adjacency_matrix))\n",
    "print(\"\\nLaplacian Matrix:\")\n",
    "print(laplacian_matrix)\n"
   ]
  },
  {
   "cell_type": "code",
   "execution_count": 5,
   "metadata": {
    "colab": {
     "base_uri": "https://localhost:8080/"
    },
    "id": "Hj2yQ1d6hZAV",
    "outputId": "4f662646-388b-4b1d-fb47-f451b0c61eaf",
    "tags": []
   },
   "outputs": [
    {
     "name": "stdout",
     "output_type": "stream",
     "text": [
      "Eigenvalue 1: 0.5857864376\n",
      "Eigenvector 1: [ 0.5        -0.70710678  0.5       ]\n",
      "\n",
      "Eigenvalue 2: 2.0\n",
      "Eigenvector 2: [ 0.70710678  0.         -0.70710678]\n",
      "\n",
      "Eigenvalue 3: 3.4142135624\n",
      "Eigenvector 3: [-0.5        -0.70710678 -0.5       ]\n",
      "\n"
     ]
    }
   ],
   "source": [
    "import numpy as np\n",
    "\n",
    "def spectral_decomposition(matrix, decimal_places=10):\n",
    "    \"\"\"\n",
    "    Compute the spectral decomposition of a matrix.\n",
    "\n",
    "    Args:\n",
    "        matrix: The input matrix.\n",
    "        decimal_places: Number of decimal places to round the eigenvalues and eigenvectors.\n",
    "\n",
    "    Returns:\n",
    "        rounded_eigenvalues: The rounded eigenvalues of the matrix.\n",
    "        rounded_eigenvectors: The rounded corresponding eigenvectors.\n",
    "    \"\"\"\n",
    "    # Compute eigenvalues and eigenvectors\n",
    "    eigenvalues, eigenvectors = np.linalg.eig(matrix)\n",
    "\n",
    "    # Sort eigenvalues and corresponding eigenvectors\n",
    "    sorted_indices = np.argsort(eigenvalues)\n",
    "    eigenvalues = eigenvalues[sorted_indices]\n",
    "    eigenvectors = eigenvectors[:, sorted_indices]\n",
    "\n",
    "    # Round eigenvalues and eigenvectors to mitigate small computational errors\n",
    "    rounded_eigenvalues = np.round(eigenvalues, decimal_places)\n",
    "    rounded_eigenvectors = np.round(eigenvectors, decimal_places)\n",
    "\n",
    "    return rounded_eigenvalues, rounded_eigenvectors\n",
    "\n",
    "# Example usage:\n",
    "any_matrix = np.array([\n",
    "    [2, 1, 0],\n",
    "    [1, 2, 1],\n",
    "    [0, 1, 2]\n",
    "])\n",
    "\n",
    "eigenvalues, eigenvectors = spectral_decomposition(any_matrix)\n",
    "\n",
    "# Print ordered and rounded eigenvalues and corresponding eigenvectors\n",
    "for i, (value, vector) in enumerate(zip(eigenvalues, eigenvectors.T), 1):\n",
    "    print(f\"Eigenvalue {i}: {value}\")\n",
    "    print(f\"Eigenvector {i}: {vector}\")\n",
    "    print()\n"
   ]
  },
  {
   "cell_type": "code",
   "execution_count": 6,
   "metadata": {
    "colab": {
     "base_uri": "https://localhost:8080/"
    },
    "id": "OmSg90B1juYD",
    "outputId": "a32e9cfd-9080-4377-b4d0-ae5f6e95d41d",
    "tags": []
   },
   "outputs": [
    {
     "name": "stdout",
     "output_type": "stream",
     "text": [
      "Eigenvalue 1: Combined Eigenvector: [0.1 0.2 0.3]\n",
      "\n",
      "Eigenvalue 2: Combined Eigenvector: [0.36055513 0.5        0.64031242]\n",
      "\n",
      "Eigenvalue 3: Combined Eigenvector: [0.64031242 0.78102497 0.92195445]\n",
      "\n",
      "Eigenvalue 4: Combined Eigenvector: [0.6 0.7 0.8]\n",
      "\n"
     ]
    }
   ],
   "source": [
    "import numpy as np\n",
    "\n",
    "def combine_eigenvectors_by_norm(eigenvalues, eigenvectors):\n",
    "    \"\"\"\n",
    "    Combine eigenvectors that correspond to the same eigenvalue by 2-norm.\n",
    "\n",
    "    Args:\n",
    "        eigenvalues: The eigenvalues of the matrix.\n",
    "        eigenvectors: The corresponding eigenvectors.\n",
    "\n",
    "    Returns:\n",
    "        combined_eigenvalues: The unique eigenvalues.\n",
    "        combined_eigenvectors: The combined eigenvectors.\n",
    "    \"\"\"\n",
    "    combined_eigenvalues = []\n",
    "    combined_eigenvectors = []\n",
    "\n",
    "    unique_eigenvalues = np.unique(eigenvalues)\n",
    "\n",
    "    for value in unique_eigenvalues:\n",
    "        indices = np.where(eigenvalues == value)[0]\n",
    "        combined_vector = np.linalg.norm(eigenvectors[:, indices], axis=1)\n",
    "\n",
    "        combined_eigenvalues.append(value)\n",
    "        combined_eigenvectors.append(combined_vector)\n",
    "\n",
    "    combined_eigenvalues = np.array(combined_eigenvalues)\n",
    "    combined_eigenvectors = np.column_stack(combined_eigenvectors)\n",
    "\n",
    "    return combined_eigenvalues, combined_eigenvectors\n",
    "\n",
    "# Example usage:\n",
    "eigenvalues = np.array([1, 2, 2, 3, 3, 4])\n",
    "eigenvectors = np.array([[0.1, 0.2, 0.3, 0.4, 0.5, 0.6],\n",
    "              [0.2, 0.3, 0.4, 0.5, 0.6, 0.7],\n",
    "              [0.3, 0.4, 0.5, 0.6, 0.7, 0.8]])\n",
    "\n",
    "combined_eigenvalues, combined_eigenvectors = combine_eigenvectors_by_norm(eigenvalues, eigenvectors)\n",
    "\n",
    "# Print combined eigenvalues and eigenvectors\n",
    "for value, vector in zip(combined_eigenvalues, combined_eigenvectors.T):\n",
    "    print(f\"Eigenvalue {value}: Combined Eigenvector: {vector}\")\n",
    "    print()\n"
   ]
  },
  {
   "cell_type": "code",
   "execution_count": 7,
   "metadata": {
    "colab": {
     "base_uri": "https://localhost:8080/"
    },
    "id": "Pf_NSMsGnaze",
    "outputId": "a710dbc8-5a46-47bb-fad9-47b3000cbfc3",
    "tags": []
   },
   "outputs": [
    {
     "name": "stdout",
     "output_type": "stream",
     "text": [
      "Original Matrix:\n",
      "[[3 0 1 2]\n",
      " [3 0 4 4]\n",
      " [0 2 2 6]]\n",
      "\n",
      "Sorted Matrix:\n",
      "(array([[3, 0, 4, 4],\n",
      "       [3, 0, 1, 2],\n",
      "       [0, 2, 2, 6]]), array([1, 0, 2]))\n"
     ]
    }
   ],
   "source": [
    "import numpy as np\n",
    "\n",
    "def sort_matrix_rows(matrix):\n",
    "    \"\"\"\n",
    "    Sort the rows of a matrix in lexicographical (dictionary) order.\n",
    "\n",
    "    Args:\n",
    "        matrix: The input matrix.\n",
    "\n",
    "    Returns:\n",
    "        sorted_matrix: The matrix with sorted rows.\n",
    "    \"\"\"\n",
    "    indices = np.lexsort(-matrix[:, ::-1].T)\n",
    "    sorted_matrix = matrix[indices]\n",
    "\n",
    "    return sorted_matrix, indices\n",
    "\n",
    "# Example usage:\n",
    "input_matrix = np.array([\n",
    "    [3, 0, 1, 2],\n",
    "    [3, 0, 4, 4],\n",
    "    [0, 2, 2, 6]\n",
    "])\n",
    "\n",
    "sorted_matrix = sort_matrix_rows(input_matrix)\n",
    "\n",
    "# Print the sorted matrix\n",
    "print(\"Original Matrix:\")\n",
    "print(input_matrix)\n",
    "print(\"\\nSorted Matrix:\")\n",
    "print(sorted_matrix)\n"
   ]
  },
  {
   "cell_type": "markdown",
   "metadata": {
    "id": "ZxQ_wfi9gxea",
    "tags": []
   },
   "source": [
    "# run"
   ]
  },
  {
   "cell_type": "code",
   "execution_count": 8,
   "metadata": {
    "colab": {
     "base_uri": "https://localhost:8080/"
    },
    "id": "dA7Rx3IDgyUi",
    "outputId": "aee06fe9-4109-4a33-9541-410c014e954e",
    "tags": []
   },
   "outputs": [
    {
     "name": "stdout",
     "output_type": "stream",
     "text": [
      "Combined Eigenvalues:\n",
      "[-0.  3.]\n",
      "\n",
      "Sorted Eigenvectors:\n",
      "[0.57735027 0.90626217]\n",
      "[0.57735027 0.87322126]\n",
      "[0.57735027 0.64511512]\n",
      "\n"
     ]
    }
   ],
   "source": [
    "import numpy as np\n",
    "\n",
    "def run(matrix):\n",
    "    # Assuming you have the necessary functions defined\n",
    "    L = adjacency_to_laplacian(matrix)\n",
    "    eval, evec = spectral_decomposition(L)\n",
    "    cval, cvec = combine_eigenvectors_by_norm(eval, evec)\n",
    "    svec, indices = sort_matrix_rows(cvec)\n",
    "\n",
    "    return eval, cval, svec, indices\n",
    "\n",
    "# Example usage:\n",
    "matrix_example = np.array([\n",
    "    [0, 1, 1],\n",
    "    [1, 0, 1],\n",
    "    [1, 1, 0]\n",
    "])\n",
    "\n",
    "eval, cval, svec, indices = run(matrix_example)\n",
    "\n",
    "print(\"Combined Eigenvalues:\")\n",
    "print(cval)\n",
    "\n",
    "print(\"\\nSorted Eigenvectors:\")\n",
    "mprint(svec)\n"
   ]
  },
  {
   "cell_type": "markdown",
   "metadata": {
    "id": "iNaT090M3vgK",
    "tags": []
   },
   "source": [
    "# binary_insert"
   ]
  },
  {
   "cell_type": "code",
   "execution_count": 9,
   "metadata": {
    "colab": {
     "base_uri": "https://localhost:8080/"
    },
    "id": "Scp6wXg84CJR",
    "outputId": "ce9f53a9-4380-4fea-9c34-9ae52ec3499c",
    "tags": []
   },
   "outputs": [
    {
     "name": "stdout",
     "output_type": "stream",
     "text": [
      "List after binary insertion: (3, True)\n"
     ]
    }
   ],
   "source": [
    "def binary_search(arr, value, compare_func):\n",
    "    low, high = 0, len(arr)\n",
    "\n",
    "    while low < high:\n",
    "        mid = (low + high) // 2  # Find the middle index\n",
    "\n",
    "        comparison_result = compare_func(arr[mid], value)\n",
    "\n",
    "        if comparison_result == 0:\n",
    "            return mid, True\n",
    "        elif comparison_result < 0:\n",
    "            low = mid + 1  # Search in the right half\n",
    "        else:\n",
    "            high = mid  # Search in the left half or equal elements\n",
    "\n",
    "    return low, False\n",
    "\n",
    "# Example usage:\n",
    "def custom_compare(a, b):\n",
    "    # Your custom comparison function returning:\n",
    "    # -1 if a < b, 0 if a == b, 1 if a > b\n",
    "    if a < b:\n",
    "        return -1\n",
    "    elif a == b:\n",
    "        return 0\n",
    "    else:\n",
    "        return 1\n",
    "\n",
    "sorted_list = [1, 2, 4, 7, 10, 12, 15]\n",
    "value_to_insert = 7\n",
    "\n",
    "ind, bool = binary_search(sorted_list, value_to_insert, custom_compare)\n",
    "\n",
    "print(f\"List after binary insertion: {ind, bool}\")\n"
   ]
  },
  {
   "cell_type": "markdown",
   "metadata": {
    "id": "iA8im4IoC8rA",
    "tags": []
   },
   "source": [
    "# class"
   ]
  },
  {
   "cell_type": "code",
   "execution_count": 49,
   "metadata": {
    "id": "_RgJhEBfFIdk",
    "tags": []
   },
   "outputs": [],
   "source": [
    "class Cospectrum:\n",
    "    def __init__(self, eval):\n",
    "        self.eval = eval\n",
    "        self.list = []\n",
    "        self.count = 0\n",
    "        self.dist = 0\n",
    "    def add(self, G):\n",
    "        if self.count == 0:\n",
    "            col = Collection(G.eval, G.svec)\n",
    "            self.dist += col.add(G)\n",
    "            \n",
    "            self.list.append(col)\n",
    "            self.count += 1\n",
    "            return 1\n",
    "        \n",
    "        idx, flag = binary_search(self.list, G, svec_compare)\n",
    "        if flag == False:\n",
    "            col = Collection(G.eval, G.svec)\n",
    "            self.dist += col.add(G)\n",
    "            \n",
    "            self.list.insert(idx, col)\n",
    "            self.count += 1\n",
    "            return 1\n",
    "        else:\n",
    "            col = self.list[idx]\n",
    "            self.dist += col.add(G)\n",
    "            return 0"
   ]
  },
  {
   "cell_type": "code",
   "execution_count": 50,
   "metadata": {
    "id": "bn0WrbviC_Nv",
    "tags": []
   },
   "outputs": [],
   "source": [
    "class Collection:\n",
    "    def __init__(self, eval, svec):\n",
    "        self.eval = eval\n",
    "        self.svec = svec\n",
    "        self.list = []\n",
    "        self.count = 0\n",
    "    def add(self, G):\n",
    "        self.list.append(G)\n",
    "        self.count += 1\n",
    "        if self.count == 1:\n",
    "            return 1\n",
    "        elif self.count == 2:\n",
    "            return -1\n",
    "        else:\n",
    "            return 0"
   ]
  },
  {
   "cell_type": "code",
   "execution_count": 51,
   "metadata": {
    "id": "EVmypac8K6Vr",
    "tags": []
   },
   "outputs": [],
   "source": [
    "class Gra:\n",
    "    def __init__(self, matrix):\n",
    "        self.A = matrix\n",
    "\n",
    "        eval, cval, svec, indices = run(matrix)\n",
    "\n",
    "        self.eval = eval\n",
    "        self.cval = cval\n",
    "        self.svec = svec\n",
    "        self.indices = indices"
   ]
  },
  {
   "cell_type": "markdown",
   "metadata": {
    "id": "_Ipt4PBGRijt",
    "tags": []
   },
   "source": [
    "# compare"
   ]
  },
  {
   "cell_type": "code",
   "execution_count": 52,
   "metadata": {
    "colab": {
     "base_uri": "https://localhost:8080/"
    },
    "id": "1kZC-AerM49d",
    "outputId": "91d1aa25-0579-4922-8938-c945f4d1d62a",
    "tags": []
   },
   "outputs": [
    {
     "name": "stdout",
     "output_type": "stream",
     "text": [
      "Result of comparison: -1\n"
     ]
    }
   ],
   "source": [
    "def array_compare(a, b):\n",
    "\n",
    "    l = len(a)\n",
    "    for i in range(l):\n",
    "        if a[i] < b[i]:\n",
    "            return -1\n",
    "        if a[i] > b[i]:\n",
    "            return 1\n",
    "    return 0\n",
    "\n",
    "a = np.array([1, 2, 1])\n",
    "b = np.array([1, 2, 3])\n",
    "\n",
    "# 打印结果\n",
    "print(\"Result of comparison:\", array_compare(a, b))"
   ]
  },
  {
   "cell_type": "code",
   "execution_count": 53,
   "metadata": {
    "colab": {
     "base_uri": "https://localhost:8080/"
    },
    "id": "pO_zOELeCIuO",
    "outputId": "45aa94b2-f016-4b00-8cc3-0cb4798873a7",
    "tags": []
   },
   "outputs": [
    {
     "name": "stdout",
     "output_type": "stream",
     "text": [
      "Array 1: [1 2 1]\n",
      "Array 2: [1 2 3]\n",
      "Result of comparison: -1\n"
     ]
    }
   ],
   "source": [
    "def eval_compare(a, b):\n",
    "    ea = a.eval\n",
    "    eb = b.eval\n",
    "    return array_compare(ea, eb)\n",
    "\n",
    "# 创建两个数组\n",
    "array1 = np.array([1, 2, 1])\n",
    "array2 = np.array([1, 2, 3])\n",
    "a = Cospectrum(array1)\n",
    "b = Cospectrum(array2)\n",
    "\n",
    "# 打印结果\n",
    "print(\"Array 1:\", array1)\n",
    "print(\"Array 2:\", array2)\n",
    "print(\"Result of comparison:\", eval_compare(a, b))"
   ]
  },
  {
   "cell_type": "code",
   "execution_count": 54,
   "metadata": {
    "colab": {
     "base_uri": "https://localhost:8080/"
    },
    "id": "Sw1ydvazI_ab",
    "outputId": "404bd10a-f9ee-4c51-d104-ebf56c7a4f72",
    "tags": []
   },
   "outputs": [
    {
     "name": "stdout",
     "output_type": "stream",
     "text": [
      "Array 1: [[5 2 3]\n",
      " [1 2 2]]\n",
      "Array 2: [[5 2 3]\n",
      " [1 2 3]]\n",
      "Result of comparison: -1\n"
     ]
    }
   ],
   "source": [
    "def svec_compare(a, b):\n",
    "    va = a.svec\n",
    "    vb = b.svec\n",
    "    num_rows = va.shape[0]\n",
    "    for i in range(num_rows):\n",
    "        r = array_compare(va[i], vb[i])\n",
    "        if r != 0:\n",
    "            break\n",
    "    return r\n",
    "\n",
    "# 创建两个数组\n",
    "array1 = np.array([[5, 2, 3], [1, 2, 2]])\n",
    "array2 = np.array([[5, 2, 3], [1, 2, 3]])\n",
    "a = Collection([0], array1)\n",
    "b = Collection([0], array2)\n",
    "\n",
    "# 打印结果\n",
    "print(\"Array 1:\", array1)\n",
    "print(\"Array 2:\", array2)\n",
    "print(\"Result of comparison:\", svec_compare(a, b))"
   ]
  },
  {
   "cell_type": "markdown",
   "metadata": {
    "id": "5BU_tugNpc5E"
   },
   "source": [
    "# T3"
   ]
  },
  {
   "cell_type": "code",
   "execution_count": 55,
   "metadata": {
    "id": "8MBRYywuphsz",
    "tags": []
   },
   "outputs": [],
   "source": [
    "def split(n, matrix_list):\n",
    "    root = []\n",
    "    ctr1, ctr2 = 0, 0\n",
    "    for matrix in matrix_list:\n",
    "        G = Gra(matrix)\n",
    "\n",
    "        idx, flag = binary_search(root, G, eval_compare)\n",
    "\n",
    "        if flag == False:\n",
    "            cos = Cospectrum(G.eval)\n",
    "            ctr2 += cos.add(G)\n",
    "            \n",
    "            root.insert(idx, cos)\n",
    "            ctr1 += 1\n",
    "            \n",
    "        else:\n",
    "            cos = root[idx]\n",
    "            ctr2 += cos.add(G)\n",
    "    return ctr1, ctr2"
   ]
  },
  {
   "cell_type": "code",
   "execution_count": 57,
   "metadata": {
    "tags": []
   },
   "outputs": [
    {
     "name": "stdout",
     "output_type": "stream",
     "text": [
      "n = 1, len(root) = 1, totle = 1\n",
      "n = 2, len(root) = 1, totle = 1\n",
      "n = 3, len(root) = 2, totle = 2\n",
      "n = 4, len(root) = 6, totle = 6\n",
      "n = 5, len(root) = 21, totle = 21\n",
      "n = 6, len(root) = 110, totle = 112\n",
      "n = 7, len(root) = 793, totle = 853\n",
      "n = 8, len(root) = 10251, totle = 11071\n"
     ]
    }
   ],
   "source": [
    "from sage.graphs.graph import Graph\n",
    "from sage.graphs.graph_generators import graphs\n",
    "\n",
    "for n in range(1, ㄅˇ):\n",
    "    all_graphs = graphs.nauty_geng(str(n) + \" -c\")\n",
    "    gist = []\n",
    "    for g in all_graphs:\n",
    "        gist.append(g.adjacency_matrix())\n",
    "        \n",
    "    #gist = generate_adjacency_matrices(n)\n",
    "    \n",
    "    ctr1, ctr2 = split(n, gist)\n",
    "    print(f\"n = {n}, len(root) = {ctr1}, totle = {ctr2}\")"
   ]
  },
  {
   "cell_type": "code",
   "execution_count": null,
   "metadata": {},
   "outputs": [],
   "source": []
  }
 ],
 "metadata": {
  "colab": {
   "collapsed_sections": [
    "_Ipt4PBGRijt",
    "iNaT090M3vgK"
   ],
   "provenance": [],
   "toc_visible": true
  },
  "kernelspec": {
   "display_name": "SageMath 10.2",
   "language": "sagemath",
   "name": "sage-10.2"
  },
  "language_info": {
   "codemirror_mode": {
    "name": "ipython",
    "version": 3
   },
   "file_extension": ".py",
   "mimetype": "text/x-python",
   "name": "python",
   "nbconvert_exporter": "python",
   "pygments_lexer": "ipython3",
   "version": "3.11.1"
  }
 },
 "nbformat": 4,
 "nbformat_minor": 4
}
